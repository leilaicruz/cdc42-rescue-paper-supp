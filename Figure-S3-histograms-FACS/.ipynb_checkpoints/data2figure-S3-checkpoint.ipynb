{
 "cells": [
  {
   "cell_type": "markdown",
   "metadata": {},
   "source": [
    "# To generate the data using in Figure S3 of the supplement"
   ]
  },
  {
   "cell_type": "code",
   "execution_count": 12,
   "metadata": {},
   "outputs": [],
   "source": [
    "import scipy.io\n",
    "from scipy import stats, optimize, interpolate\n",
    "import pandas as pd\n",
    "import numpy as np\n",
    "from collections import defaultdict\n",
    "import math\n",
    "import matplotlib.pyplot as plt\n",
    "import matplotlib.cm as cm\n",
    "%matplotlib inline"
   ]
  },
  {
   "cell_type": "markdown",
   "metadata": {},
   "source": [
    "## import the data from mat format and generate a dataframe with it"
   ]
  },
  {
   "cell_type": "code",
   "execution_count": 29,
   "metadata": {},
   "outputs": [],
   "source": [
    "names=['d1','d2','d3','d4','d5','d6','d7']\n",
    "meaning=['0.05% Gal','0.2% Gal','2% Gal','2% Glucose','4% Gal','Cdc42 promoter','NO-GFP']\n",
    "reads=defaultdict(dict)\n",
    "i=0\n",
    "for each in names:\n",
    "    r= scipy.io.loadmat(each + '.mat')\n",
    "    reads[each]['data'] =r[each]\n",
    "    reads[each]['log10']=np.log10(r[each])\n",
    "    reads[each]['geomean_log10']=scipy.stats.mstats.gmean(np.log10(r[each]), axis=0)\n",
    "    reads[each]['geomean']=scipy.stats.mstats.gmean((r[each]), axis=0)\n",
    "    reads[each]['std_log10']=np.std(np.log10(r[each]))\n",
    "    reads[each]['Names']=meaning[i]\n",
    "    reads[each]['Length of data']=len(r[each])\n",
    "    i=i+1\n",
    "pd_reads=pd.DataFrame(reads).T"
   ]
  },
  {
   "cell_type": "code",
   "execution_count": 30,
   "metadata": {},
   "outputs": [
    {
     "data": {
      "text/html": [
       "<div>\n",
       "<style scoped>\n",
       "    .dataframe tbody tr th:only-of-type {\n",
       "        vertical-align: middle;\n",
       "    }\n",
       "\n",
       "    .dataframe tbody tr th {\n",
       "        vertical-align: top;\n",
       "    }\n",
       "\n",
       "    .dataframe thead th {\n",
       "        text-align: right;\n",
       "    }\n",
       "</style>\n",
       "<table border=\"1\" class=\"dataframe\">\n",
       "  <thead>\n",
       "    <tr style=\"text-align: right;\">\n",
       "      <th></th>\n",
       "      <th>Length of data</th>\n",
       "      <th>Names</th>\n",
       "      <th>data</th>\n",
       "      <th>geomean</th>\n",
       "      <th>geomean_log10</th>\n",
       "      <th>log10</th>\n",
       "      <th>std_log10</th>\n",
       "    </tr>\n",
       "  </thead>\n",
       "  <tbody>\n",
       "    <tr>\n",
       "      <th>d1</th>\n",
       "      <td>15440</td>\n",
       "      <td>0.05% Gal</td>\n",
       "      <td>[[23.9453], [62.9713], [26.9458], [48.8967], [...</td>\n",
       "      <td>[41.97598543295089]</td>\n",
       "      <td>[1.579878441391319]</td>\n",
       "      <td>[[1.379220282494868], [1.799142659111158], [1....</td>\n",
       "      <td>0.316526</td>\n",
       "    </tr>\n",
       "    <tr>\n",
       "      <th>d2</th>\n",
       "      <td>7255</td>\n",
       "      <td>0.2% Gal</td>\n",
       "      <td>[[419.872], [27.9486], [557.71], [710.213], [5...</td>\n",
       "      <td>[621.3460420195476]</td>\n",
       "      <td>[2.747825074614713]</td>\n",
       "      <td>[[2.623116913811673], [1.4463600581078564], [2...</td>\n",
       "      <td>0.413008</td>\n",
       "    </tr>\n",
       "    <tr>\n",
       "      <th>d3</th>\n",
       "      <td>10988</td>\n",
       "      <td>2% Gal</td>\n",
       "      <td>[[1487.42], [2460.03], [2737.32], [1260.12], [...</td>\n",
       "      <td>[1758.7984936120897]</td>\n",
       "      <td>[3.234738322542425]</td>\n",
       "      <td>[[3.1724336167583242], [3.3909404033452546], [...</td>\n",
       "      <td>0.2137</td>\n",
       "    </tr>\n",
       "    <tr>\n",
       "      <th>d4</th>\n",
       "      <td>21309</td>\n",
       "      <td>2% Glucose</td>\n",
       "      <td>[[21.9472], [18.9628], [7.97859], [37.9679], [...</td>\n",
       "      <td>[19.66960786115788]</td>\n",
       "      <td>[1.2209275752001363]</td>\n",
       "      <td>[[1.3413791212926924], [1.2779024645826027], [...</td>\n",
       "      <td>0.371226</td>\n",
       "    </tr>\n",
       "    <tr>\n",
       "      <th>d5</th>\n",
       "      <td>2545</td>\n",
       "      <td>4% Gal</td>\n",
       "      <td>[[1191.24], [1857.25], [2391.84], [1410.07], [...</td>\n",
       "      <td>[1572.9678863705362]</td>\n",
       "      <td>[3.1824907062556913]</td>\n",
       "      <td>[[3.0759992679271404], [3.2688703670207335], [...</td>\n",
       "      <td>0.237762</td>\n",
       "    </tr>\n",
       "    <tr>\n",
       "      <th>d6</th>\n",
       "      <td>25803</td>\n",
       "      <td>Cdc42 promoter</td>\n",
       "      <td>[[361.76], [613.638], [193.831], [324.2], [216...</td>\n",
       "      <td>[279.148799993508]</td>\n",
       "      <td>[2.437028664522126]</td>\n",
       "      <td>[[2.5584205450012845], [2.787912245789874], [2...</td>\n",
       "      <td>0.202961</td>\n",
       "    </tr>\n",
       "    <tr>\n",
       "      <th>d7</th>\n",
       "      <td>27798</td>\n",
       "      <td>NO-GFP</td>\n",
       "      <td>[[21.9472], [18.9628], [8.97833], [7.97859], [...</td>\n",
       "      <td>[18.156320669963268]</td>\n",
       "      <td>[1.1819224775840171]</td>\n",
       "      <td>[[1.3413791212926924], [1.2779024645826027], [...</td>\n",
       "      <td>0.378805</td>\n",
       "    </tr>\n",
       "  </tbody>\n",
       "</table>\n",
       "</div>"
      ],
      "text/plain": [
       "   Length of data           Names  \\\n",
       "d1          15440       0.05% Gal   \n",
       "d2           7255        0.2% Gal   \n",
       "d3          10988          2% Gal   \n",
       "d4          21309      2% Glucose   \n",
       "d5           2545          4% Gal   \n",
       "d6          25803  Cdc42 promoter   \n",
       "d7          27798          NO-GFP   \n",
       "\n",
       "                                                 data               geomean  \\\n",
       "d1  [[23.9453], [62.9713], [26.9458], [48.8967], [...   [41.97598543295089]   \n",
       "d2  [[419.872], [27.9486], [557.71], [710.213], [5...   [621.3460420195476]   \n",
       "d3  [[1487.42], [2460.03], [2737.32], [1260.12], [...  [1758.7984936120897]   \n",
       "d4  [[21.9472], [18.9628], [7.97859], [37.9679], [...   [19.66960786115788]   \n",
       "d5  [[1191.24], [1857.25], [2391.84], [1410.07], [...  [1572.9678863705362]   \n",
       "d6  [[361.76], [613.638], [193.831], [324.2], [216...    [279.148799993508]   \n",
       "d7  [[21.9472], [18.9628], [8.97833], [7.97859], [...  [18.156320669963268]   \n",
       "\n",
       "           geomean_log10                                              log10  \\\n",
       "d1   [1.579878441391319]  [[1.379220282494868], [1.799142659111158], [1....   \n",
       "d2   [2.747825074614713]  [[2.623116913811673], [1.4463600581078564], [2...   \n",
       "d3   [3.234738322542425]  [[3.1724336167583242], [3.3909404033452546], [...   \n",
       "d4  [1.2209275752001363]  [[1.3413791212926924], [1.2779024645826027], [...   \n",
       "d5  [3.1824907062556913]  [[3.0759992679271404], [3.2688703670207335], [...   \n",
       "d6   [2.437028664522126]  [[2.5584205450012845], [2.787912245789874], [2...   \n",
       "d7  [1.1819224775840171]  [[1.3413791212926924], [1.2779024645826027], [...   \n",
       "\n",
       "   std_log10  \n",
       "d1  0.316526  \n",
       "d2  0.413008  \n",
       "d3    0.2137  \n",
       "d4  0.371226  \n",
       "d5  0.237762  \n",
       "d6  0.202961  \n",
       "d7  0.378805  "
      ]
     },
     "execution_count": 30,
     "metadata": {},
     "output_type": "execute_result"
    }
   ],
   "source": [
    "pd_reads"
   ]
  },
  {
   "cell_type": "code",
   "execution_count": 31,
   "metadata": {},
   "outputs": [],
   "source": [
    "pd_reads.to_excel('data-histograms.xlsx')"
   ]
  },
  {
   "cell_type": "markdown",
   "metadata": {},
   "source": [
    "## Figure S3 histograms"
   ]
  },
  {
   "cell_type": "code",
   "execution_count": 33,
   "metadata": {},
   "outputs": [
    {
     "data": {
      "text/plain": [
       "Text(0,0.5,'Normalized frequency')"
      ]
     },
     "execution_count": 33,
     "metadata": {},
     "output_type": "execute_result"
    },
    {
     "data": {
      "image/png": "[encoded data removed]",
      "text/plain": [
       "<Figure size 1000x500 with 1 Axes>"
      ]
     },
     "metadata": {
      "needs_background": "light"
     },
     "output_type": "display_data"
    }
   ],
   "source": [
    "fig, axes = plt.subplots(1,1, figsize=(10,5), dpi=100, sharex=True, sharey=True)\n",
    "kwargs = dict(alpha=0.5, bins=20, density=True, stacked=True)\n",
    "axis_font = {'fontname':'Arial', 'size':'12'}\n",
    "colors = cm.rainbow(np.linspace(0, 1, len(pd_reads['Names'])))\n",
    "keys=pd_reads['Names']   \n",
    "i=0\n",
    "for y, c in zip(keys, colors):\n",
    "    plt.hist(pd_reads['log10'][i],bins=20,density=True,label=pd_reads['Names'][i],stacked=True,alpha=0.5,color=c)\n",
    "    i=i+1\n",
    "\n",
    "\n",
    "#plt.hist(pd_reads['log10'],**kwargs,label=pd_reads['Names'])\n",
    "plt.legend(prop={'size': 10},loc='upper left')\n",
    "plt.xlabel('log(10)_Intensities',**axis_font)\n",
    "plt.ylabel('Normalized frequency',**axis_font)"
   ]
  },
  {
   "cell_type": "code",
   "execution_count": null,
   "metadata": {},
   "outputs": [],
   "source": []
  },
  {
   "cell_type": "markdown",
   "metadata": {},
   "source": [
    "## Bar plot of the geometric mean and standard deviations (inset of the Fig S3)"
   ]
  },
  {
   "cell_type": "code",
   "execution_count": 5,
   "metadata": {},
   "outputs": [
    {
     "data": {
      "text/plain": [
       "Text(0,0.5,'Geometric mean of Log10(Intensities)')"
      ]
     },
     "execution_count": 5,
     "metadata": {},
     "output_type": "execute_result"
    },
    {
     "data": {
      "image/png": "[encoded data removed]",
      "text/plain": [
       "<Figure size 1000x500 with 1 Axes>"
      ]
     },
     "metadata": {
      "needs_background": "light"
     },
     "output_type": "display_data"
    }
   ],
   "source": [
    "fig, axes = plt.subplots(1,1, figsize=(10,5), dpi=100, sharex=True, sharey=True)\n",
    "kwargs = dict(alpha=0.5, bins=20, density=True, stacked=True)\n",
    "axis_font = {'fontname':'Arial', 'size':'12'}\n",
    "plt.bar(x=pd_reads['Names'],height=pd_reads['geomean_log10'],yerr=pd_reads['std_log10'],align='center', alpha=0.5, ecolor='black', capsize=10)\n",
    "plt.xlabel('log(10)_Intensities',**axis_font)\n",
    "plt.ylabel('Geometric mean of Log10(Intensities)',**axis_font)"
   ]
  },
  {
   "cell_type": "code",
   "execution_count": null,
   "metadata": {},
   "outputs": [],
   "source": []
  },
  {
   "cell_type": "code",
   "execution_count": null,
   "metadata": {},
   "outputs": [],
   "source": []
  }
 ],
 "metadata": {
  "kernelspec": {
   "display_name": "Python 3",
   "language": "python",
   "name": "python3"
  },
  "language_info": {
   "codemirror_mode": {
    "name": "ipython",
    "version": 3
   },
   "file_extension": ".py",
   "mimetype": "text/x-python",
   "name": "python",
   "nbconvert_exporter": "python",
   "pygments_lexer": "ipython3",
   "version": "3.7.0"
  }
 },
 "nbformat": 4,
 "nbformat_minor": 2
}
